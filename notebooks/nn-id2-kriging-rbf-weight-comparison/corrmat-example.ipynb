{
 "cells": [
  {
   "cell_type": "code",
   "execution_count": 90,
   "metadata": {
    "ExecuteTime": {
     "end_time": "2020-10-22T21:51:42.361307Z",
     "start_time": "2020-10-22T21:51:42.293310Z"
    }
   },
   "outputs": [],
   "source": [
    "import pandas as pd\n",
    "import numpy as np\n",
    "import pygeostat as gs\n",
    "import matplotlib.pyplot as plt\n",
    "plt.rcParams[\"figure.figsize\"] = (6, 6)"
   ]
  },
  {
   "cell_type": "markdown",
   "metadata": {},
   "source": [
    "# example location"
   ]
  },
  {
   "cell_type": "code",
   "execution_count": 172,
   "metadata": {
    "ExecuteTime": {
     "end_time": "2020-10-22T22:11:52.597895Z",
     "start_time": "2020-10-22T22:11:52.525820Z"
    }
   },
   "outputs": [],
   "source": [
    "df = pd.DataFrame(\n",
    "    {\n",
    "        \"id\": [0, 1, 2, 3],\n",
    "        \"x\": [0.5, -0.1, 1.1, 1.2],\n",
    "        \"y\": [0, 0, 0, 0],\n",
    "        \"m\": [\"*\", \"o\", \"o\", \"o\"],\n",
    "        \"s\": [150, 15, 15, 15],\n",
    "        \"c\": [\"r\", \"k\", \"k\", \"k\"]\n",
    "    }\n",
    ")"
   ]
  },
  {
   "cell_type": "code",
   "execution_count": 173,
   "metadata": {
    "ExecuteTime": {
     "end_time": "2020-10-22T22:11:53.369764Z",
     "start_time": "2020-10-22T22:11:52.808765Z"
    },
    "scrolled": false
   },
   "outputs": [
    {
     "data": {
      "image/png": "[encoded data removed]",
      "text/plain": [
       "<Figure size 720x720 with 1 Axes>"
      ]
     },
     "metadata": {
      "needs_background": "light"
     },
     "output_type": "display_data"
    }
   ],
   "source": [
    "ax = None\n",
    "for i, d in df.groupby(\"id\"):\n",
    "    s = d['m'].values[0]\n",
    "    ax = d.plot(\n",
    "        kind=\"scatter\",\n",
    "        x=\"x\",\n",
    "        y=\"y\",\n",
    "        c=d['c'].values[0],\n",
    "        marker=d[\"m\"].values[0],\n",
    "        s=d[\"s\"].values[0],\n",
    "        figsize=(10, 10),\n",
    "        ax=ax,\n",
    "    )\n",
    "    if s != \"*\":\n",
    "        if i == 2:\n",
    "            ha = \"right\"\n",
    "        else: \n",
    "            ha = \"left\"\n",
    "        ax.annotate(\n",
    "            \"Dat{}\".format(d[\"id\"].values[0]),\n",
    "            (d[\"x\"].values[0], d[\"y\"].values[0]+ 0.001),\n",
    "            xycoords=\"data\",\n",
    "            ha='center' if i not in (2, 3) else ha,\n",
    "        )\n",
    "    else: \n",
    "        ax.annotate(\n",
    "            \"Estimation Location\",\n",
    "            (d[\"x\"].values[0], d[\"y\"].values[0] + 0.001),\n",
    "            xycoords=\"data\",\n",
    "            ha='center', \n",
    "            va='bottom'\n",
    "        )\n",
    "ax.set_ylim(-0.005, 0.005)\n",
    "ax.set_aspect(15)\n",
    "ax.set_ylabel(\"\")\n",
    "ax.set_xlabel(\"\")\n",
    "for d in ['left', 'right', 'top']:\n",
    "    ax.spines[d].set_visible(False)\n",
    "ax.yaxis.set_major_locator(plt.NullLocator())\n",
    "gs.exportimg(\"example-screening.png\")"
   ]
  },
  {
   "cell_type": "code",
   "execution_count": 174,
   "metadata": {},
   "outputs": [],
   "source": [
    "class SphericalCovariance:\n",
    "    def __init__(self, ne, r, sill=1.0):\n",
    "        self.r = r\n",
    "        self.ne = ne\n",
    "        self.sill = sill\n",
    "\n",
    "    def apply_diag(self, cov):\n",
    "        if cov.ndim == 2 and cov.shape[0] == cov.shape[1]:\n",
    "            cov[np.eye(cov.shape[0], dtype=bool)] = self.sill\n",
    "        return cov\n",
    "\n",
    "    def __call__(self, d):\n",
    "        d = d / self.r\n",
    "        cov = np.zeros_like(d)\n",
    "        idxs = d < 1.0\n",
    "        cov[idxs] = (self.sill - self.ne) * (1.0 - d[idxs] * (1.5 - 0.5 * d[idxs] ** 2))\n",
    "        return self.apply_diag(cov)"
   ]
  },
  {
   "cell_type": "code",
   "execution_count": 175,
   "metadata": {},
   "outputs": [],
   "source": [
    "cova = SphericalCovariance(0.001, 2.5)"
   ]
  },
  {
   "cell_type": "code",
   "execution_count": 176,
   "metadata": {},
   "outputs": [],
   "source": [
    "xy = df[['x', 'y']].values"
   ]
  },
  {
   "cell_type": "code",
   "execution_count": 177,
   "metadata": {},
   "outputs": [
    {
     "data": {
      "text/plain": [
       "array([[ 0.5,  0. ],\n",
       "       [-0.1,  0. ],\n",
       "       [ 1.1,  0. ],\n",
       "       [ 1.2,  0. ]])"
      ]
     },
     "execution_count": 177,
     "metadata": {},
     "output_type": "execute_result"
    }
   ],
   "source": [
    "xy"
   ]
  },
  {
   "cell_type": "code",
   "execution_count": 178,
   "metadata": {},
   "outputs": [],
   "source": [
    "from scipy.spatial.distance import pdist, cdist, squareform"
   ]
  },
  {
   "cell_type": "code",
   "execution_count": 179,
   "metadata": {},
   "outputs": [],
   "source": [
    "dists = squareform(pdist(xy))"
   ]
  },
  {
   "cell_type": "code",
   "execution_count": 180,
   "metadata": {
    "scrolled": true
   },
   "outputs": [
    {
     "data": {
      "text/plain": [
       "array([[0. , 0.6, 0.6, 0.7],\n",
       "       [0.6, 0. , 1.2, 1.3],\n",
       "       [0.6, 1.2, 0. , 0.1],\n",
       "       [0.7, 1.3, 0.1, 0. ]])"
      ]
     },
     "execution_count": 180,
     "metadata": {},
     "output_type": "execute_result"
    }
   ],
   "source": [
    "dists"
   ]
  },
  {
   "cell_type": "code",
   "execution_count": 181,
   "metadata": {
    "ExecuteTime": {
     "end_time": "2020-10-22T22:11:53.431765Z",
     "start_time": "2020-10-22T22:11:53.370726Z"
    }
   },
   "outputs": [],
   "source": [
    "covmat = cova(dists)"
   ]
  },
  {
   "cell_type": "code",
   "execution_count": 182,
   "metadata": {},
   "outputs": [
    {
     "data": {
      "text/plain": [
       "array([[1.        , 0.64626509, 0.64626509, 0.59038502],\n",
       "       [0.64626509, 1.        , 0.3349607 , 0.2900137 ],\n",
       "       [0.64626509, 0.3349607 , 1.        , 0.93909197],\n",
       "       [0.59038502, 0.2900137 , 0.93909197, 1.        ]])"
      ]
     },
     "execution_count": 182,
     "metadata": {},
     "output_type": "execute_result"
    }
   ],
   "source": [
    "covmat"
   ]
  },
  {
   "cell_type": "code",
   "execution_count": 183,
   "metadata": {
    "ExecuteTime": {
     "end_time": "2020-10-22T22:11:56.389156Z",
     "start_time": "2020-10-22T22:11:56.308104Z"
    }
   },
   "outputs": [],
   "source": [
    "cov_df = pd.DataFrame(\n",
    "    covmat,\n",
    "    columns=[\"Estimation\\nLocation\", \"Dat1\", \"Dat2\", \"Dat3\"],\n",
    "    index=[\"Estimation\\nLocation\", \"Dat1\", \"Dat2\", \"Dat3\"],\n",
    ")"
   ]
  },
  {
   "cell_type": "code",
   "execution_count": 185,
   "metadata": {
    "ExecuteTime": {
     "end_time": "2020-10-22T22:11:57.265190Z",
     "start_time": "2020-10-22T22:11:56.900145Z"
    }
   },
   "outputs": [
    {
     "data": {
      "image/png": "[encoded data removed]",
      "text/plain": [
       "<Figure size 288x288 with 2 Axes>"
      ]
     },
     "metadata": {
      "needs_background": "light"
     },
     "output_type": "display_data"
    }
   ],
   "source": [
    "gs.corrmat(\n",
    "    cov_df.loc[[\"Estimation\\nLocation\"], [\"Dat1\", \"Dat2\", \"Dat3\"]],\n",
    "    figsize=(4, 4),\n",
    "    cbar=True,\n",
    "    cbar_label=\"Correlation\",\n",
    ")\n",
    "gs.exportimg(\"corrmat-est-loc.png\")"
   ]
  },
  {
   "cell_type": "code",
   "execution_count": 193,
   "metadata": {},
   "outputs": [
    {
     "data": {
      "image/png": "[encoded data removed]",
      "text/plain": [
       "<Figure size 288x288 with 2 Axes>"
      ]
     },
     "metadata": {
      "needs_background": "light"
     },
     "output_type": "display_data"
    }
   ],
   "source": [
    "gs.corrmat(\n",
    "    cov_df,\n",
    "    vlim=(0, 1),\n",
    "    figsize=(4, 4),\n",
    "    cbar=True,\n",
    "    cbar_label=\"Correlation\",\n",
    ")\n",
    "gs.exportimg(\"corrmat-total.png\")"
   ]
  },
  {
   "cell_type": "code",
   "execution_count": 188,
   "metadata": {
    "ExecuteTime": {
     "end_time": "2020-10-22T22:12:01.873424Z",
     "start_time": "2020-10-22T22:12:01.802459Z"
    }
   },
   "outputs": [],
   "source": [
    "weight_df = pd.DataFrame(\n",
    "    np.atleast_2d(np.linalg.solve(covmat[1:, 1:], covmat[0, 1:])),\n",
    "    columns=[\"Dat1\", \"Dat2\", \"Dat3\"],\n",
    "    index=[\"Estimation\\nLocation\"],\n",
    ")"
   ]
  },
  {
   "cell_type": "code",
   "execution_count": 189,
   "metadata": {
    "ExecuteTime": {
     "end_time": "2020-10-22T22:12:03.587772Z",
     "start_time": "2020-10-22T22:12:03.227735Z"
    }
   },
   "outputs": [
    {
     "data": {
      "image/png": "[encoded data removed]",
      "text/plain": [
       "<Figure size 288x288 with 2 Axes>"
      ]
     },
     "metadata": {
      "needs_background": "light"
     },
     "output_type": "display_data"
    }
   ],
   "source": [
    "gs.corrmat(\n",
    "    weight_df, figsize=(4, 4), cbar=True, cbar_label=\"Weights\",\n",
    ")\n",
    "gs.exportimg(\"corrmat-weights.png\")"
   ]
  },
  {
   "cell_type": "code",
   "execution_count": 190,
   "metadata": {},
   "outputs": [],
   "source": [
    "ok_cmat = np.ones((4, 4))\n",
    "ok_cmat[:3, :3] = covmat[1:, 1:]\n",
    "ok_cmat[-1, -1] = 0\n",
    "ok_rhs = np.ones(4)\n",
    "ok_rhs[:3] = covmat[0, 1:]"
   ]
  },
  {
   "cell_type": "code",
   "execution_count": 191,
   "metadata": {},
   "outputs": [],
   "source": [
    "weight_df = pd.DataFrame(\n",
    "    np.atleast_2d(np.linalg.solve(ok_cmat, ok_rhs)[:3]),\n",
    "    columns=[\"Dat1\", \"Dat2\", \"Dat3\"],\n",
    "    index=[\"Estimation\\nLocation\"],\n",
    ")"
   ]
  },
  {
   "cell_type": "code",
   "execution_count": 192,
   "metadata": {},
   "outputs": [
    {
     "data": {
      "image/png": "[encoded data removed]",
      "text/plain": [
       "<Figure size 288x288 with 2 Axes>"
      ]
     },
     "metadata": {
      "needs_background": "light"
     },
     "output_type": "display_data"
    }
   ],
   "source": [
    "gs.corrmat(\n",
    "    weight_df, figsize=(4, 4), cbar=True, cbar_label=\"Weights\",\n",
    ")\n",
    "gs.exportimg(\"corrmat-ok-weights.png\")"
   ]
  }
 ],
 "metadata": {
  "kernelspec": {
   "display_name": "Python 3",
   "language": "python",
   "name": "python3"
  },
  "language_info": {
   "codemirror_mode": {
    "name": "ipython",
    "version": 3
   },
   "file_extension": ".py",
   "mimetype": "text/x-python",
   "name": "python",
   "nbconvert_exporter": "python",
   "pygments_lexer": "ipython3",
   "version": "3.7.6"
  },
  "toc": {
   "base_numbering": "0",
   "nav_menu": {},
   "number_sections": true,
   "sideBar": true,
   "skip_h1_title": false,
   "title_cell": "Table of Contents",
   "title_sidebar": "Contents",
   "toc_cell": false,
   "toc_position": {
    "height": "223px",
    "left": "678.993px",
    "right": "20px",
    "top": "0px",
    "width": "165px"
   },
   "toc_section_display": true,
   "toc_window_display": false
  }
 },
 "nbformat": 4,
 "nbformat_minor": 4
}
